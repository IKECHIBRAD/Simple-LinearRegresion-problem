{
 "cells": [
  {
   "cell_type": "code",
   "execution_count": null,
   "id": "1177ddef-2355-41e4-aa8b-d141bbda9c9d",
   "metadata": {},
   "outputs": [],
   "source": [
    "import numpy as np\n",
    "import pandas as pd\n",
    "import matplotlib.pyplot as plt\n",
    "from sklearn.model_selection import train_test_split\n",
    "from sklearn.linear_model import LinearRegression"
   ]
  },
  {
   "cell_type": "code",
   "execution_count": null,
   "id": "c80219b5-4fd5-4039-9d85-882542876941",
   "metadata": {},
   "outputs": [],
   "source": [
    "#dataset url\n",
    "url = 'https://raw.githubusercontent.com/AdiPersonalWorks/Random/master/student_scores%20-%20student_scores.csv'\n",
    "\n",
    "#reading the data\n",
    "df = pd.read_csv(url)\n",
    "df.to_csv('student_scores.csv', index = False)\n",
    "df.head()\n"
   ]
  },
  {
   "cell_type": "code",
   "execution_count": null,
   "id": "aa8d381b-5f01-4a5f-bc35-7278c00cf845",
   "metadata": {},
   "outputs": [],
   "source": [
    "#inspect the dataset\n",
    "\n",
    "df.shape"
   ]
  },
  {
   "cell_type": "code",
   "execution_count": null,
   "id": "1707e7e5-cd27-46ad-959d-49356d421766",
   "metadata": {},
   "outputs": [],
   "source": [
    "df.describe()"
   ]
  },
  {
   "cell_type": "code",
   "execution_count": null,
   "id": "cc8904b3-2f59-4cf1-8539-ca3b0bf9ee1b",
   "metadata": {
    "scrolled": true
   },
   "outputs": [],
   "source": [
    "#Reshape the csv data\n",
    "a = df['Hours'].values.reshape(-1,1)\n",
    "b = df['Scores'].values\n",
    "\n",
    "#plot the data\n",
    "plt.scatter(a,b)\n",
    "plt.xlabel('Hours studied')\n",
    "plt.ylabel('Scores')\n",
    "plt.title('Hours vs. Scores')\n",
    "plt.show()"
   ]
  },
  {
   "cell_type": "code",
   "execution_count": null,
   "id": "c2fb571f-1ca6-487d-916d-81ce5343936e",
   "metadata": {},
   "outputs": [],
   "source": [
    "a_train, a_test, b_train, b_test = train_test_split(a, b, test_size=0.2, random_state=4)\n",
    "model = LinearRegression()\n",
    "model.fit(a_train, b_train)\n",
    "\n",
    "#predictions\n",
    "\n",
    "prediction = model.predict(a_test)"
   ]
  },
  {
   "cell_type": "code",
   "execution_count": null,
   "id": "c6a2f3f3-7bdc-41c7-9a77-f8dce7cd28fe",
   "metadata": {},
   "outputs": [],
   "source": [
    "prediction"
   ]
  },
  {
   "cell_type": "code",
   "execution_count": null,
   "id": "d0a57215-b7a5-4923-a28b-91f0969c3281",
   "metadata": {},
   "outputs": [],
   "source": [
    "check = pd.DataFrame({'Actual': b_test, 'Predicted': prediction})\n",
    "check"
   ]
  },
  {
   "cell_type": "code",
   "execution_count": null,
   "id": "8a0c944f-02c8-4beb-ba00-1bf70c1d206b",
   "metadata": {},
   "outputs": [],
   "source": [
    "plt.scatter(prediction, b_test)\n",
    "plt.show()"
   ]
  },
  {
   "cell_type": "code",
   "execution_count": null,
   "id": "8abbf81e-2493-43f6-b81f-0e25afcf69bf",
   "metadata": {},
   "outputs": [],
   "source": [
    "#train the linear regression model\n",
    "\n",
    "model = LinearRegression()\n",
    "\n",
    "model.fit(a,b)\n",
    "\n",
    "#predictions\n",
    "b_pred = model.predict(a)"
   ]
  },
  {
   "cell_type": "code",
   "execution_count": null,
   "id": "f814227c-dfd0-4f6b-b9d1-5c9bc03927ab",
   "metadata": {},
   "outputs": [],
   "source": [
    "# a simple prediction \n",
    "# i read for 9.25 hours, what will be my score\n",
    "\n",
    "hours = 9.25\n",
    "predicted_score = model.predict(np.array(hours).reshape(-1,1))\n",
    "\n",
    "print(f'Predicted score if you study for {hours} hours/day is {predicted_score[0]:.2f}')"
   ]
  },
  {
   "cell_type": "code",
   "execution_count": null,
   "id": "35799ba9-2365-4383-951a-8658b4f347c1",
   "metadata": {},
   "outputs": [],
   "source": []
  },
  {
   "cell_type": "code",
   "execution_count": null,
   "id": "8324c83d-c1f1-460f-ba4c-c024ec598656",
   "metadata": {},
   "outputs": [],
   "source": []
  }
 ],
 "metadata": {
  "kernelspec": {
   "display_name": "Python 3 (ipykernel)",
   "language": "python",
   "name": "python3"
  },
  "language_info": {
   "codemirror_mode": {
    "name": "ipython",
    "version": 3
   },
   "file_extension": ".py",
   "mimetype": "text/x-python",
   "name": "python",
   "nbconvert_exporter": "python",
   "pygments_lexer": "ipython3",
   "version": "3.11.7"
  }
 },
 "nbformat": 4,
 "nbformat_minor": 5
}
